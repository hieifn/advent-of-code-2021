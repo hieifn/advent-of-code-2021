{
 "cells": [
  {
   "cell_type": "markdown",
   "metadata": {},
   "source": [
    "# AdventURE of Code 2021"
   ]
  },
  {
   "cell_type": "markdown",
   "metadata": {},
   "source": [
    "## Dia 1"
   ]
  },
  {
   "cell_type": "code",
   "execution_count": 1,
   "metadata": {},
   "outputs": [
    {
     "data": {
      "text/plain": [
       "('10526\\n', 1709)"
      ]
     },
     "execution_count": 1,
     "metadata": {},
     "output_type": "execute_result"
    }
   ],
   "source": [
    "## Part 1\n",
    "from functools import reduce\n",
    "\n",
    "reduce(lambda tup, val: (val, tup[1] + 1) if (int(val) > int(tup[0])) else (val, tup[1]), open('./inputs/01/input'), (192, 0))\n"
   ]
  },
  {
   "cell_type": "code",
   "execution_count": 2,
   "metadata": {},
   "outputs": [
    {
     "data": {
      "text/plain": [
       "('10526\\n', '10525\\n', '10515\\n', 31566, 1763)"
      ]
     },
     "execution_count": 2,
     "metadata": {},
     "output_type": "execute_result"
    }
   ],
   "source": [
    "## Part 2\n",
    "example = [\n",
    "    199, 200, 208, 210, 200, \n",
    "    207, 240, 269, 260, 263\n",
    "]\n",
    "\n",
    "reduce(lambda tup, val:  (val[1], tup[0], tup[1], int(val[1]) + int(tup[0]) + int(tup[1]), int(tup[4]) + 1) if (( int(val[1]) + int(tup[0]) + int(tup[1])) > tup[3]) else (val[1], tup[0], tup[1], int(val[1]) + int(tup[0]) + int(tup[1]), tup[4]), enumerate(open('./inputs/01/input')), (100, 100, 100, 567, 0))\n"
   ]
  },
  {
   "cell_type": "markdown",
   "metadata": {},
   "source": [
    "## Dia 2"
   ]
  },
  {
   "cell_type": "code",
   "execution_count": 3,
   "metadata": {},
   "outputs": [
    {
     "name": "stdout",
     "output_type": "stream",
     "text": [
      "Resposta:  1580000\n"
     ]
    }
   ],
   "source": [
    "# Part 1\n",
    "\n",
    "from functools import reduce\n",
    "\n",
    "def read_intput(file_path):\n",
    "    return [line.replace('\\n', '') for line in open(file_path)]\n",
    "\n",
    "def process_input(cum, value):\n",
    "    [mov, value] = value.split(' ')\n",
    "    if (mov == 'forward'):\n",
    "        return (cum[0] + int(value), cum[1])\n",
    "    if (mov == 'up'):\n",
    "        return (cum[0], max(cum[1] - int(value), 0))\n",
    "    if (mov == 'down'):\n",
    "        return (cum[0], cum[1] + int(value))\n",
    "    \n",
    "    return (cum[0], cum[1])\n",
    "\n",
    "input_txt = read_intput('./inputs/02/input')\n",
    "\n",
    "answer = reduce(process_input, input_txt, (0, 0))\n",
    "\n",
    "print('Resposta: ', answer[0] * answer[1])"
   ]
  },
  {
   "cell_type": "code",
   "execution_count": 4,
   "metadata": {},
   "outputs": [
    {
     "name": "stdout",
     "output_type": "stream",
     "text": [
      "Resposta:  1251263225\n"
     ]
    }
   ],
   "source": [
    "# Part 2\n",
    "def process_input(cum, value):\n",
    "    [mov, value] = value.split(' ')\n",
    "    if (mov == 'forward'):\n",
    "        return (cum[0] + int(value), cum[1] + cum[2]*int(value), cum[2])\n",
    "    if (mov == 'up'):\n",
    "        return (cum[0], cum[1], max(cum[2] - int(value), 0))\n",
    "    if (mov == 'down'):\n",
    "        return (cum[0], cum[1], cum[2] + int(value))\n",
    "\n",
    "    return (cum[0], cum[1], cum[2])\n",
    "\n",
    "answer = reduce(process_input, input_txt, (0, 0, 0))\n",
    "\n",
    "print('Resposta: ', answer[0] * answer[1])"
   ]
  },
  {
   "cell_type": "markdown",
   "metadata": {},
   "source": [
    "# Dia 3"
   ]
  },
  {
   "cell_type": "code",
   "execution_count": 5,
   "metadata": {},
   "outputs": [
    {
     "name": "stdout",
     "output_type": "stream",
     "text": [
      "Decimal Gamma:  3875\n",
      "Decimal Epsilon:  220\n",
      "Resposta:  852500\n"
     ]
    }
   ],
   "source": [
    "# Part 1\n",
    "def read_intput(file_path):\n",
    "    return [line.replace('\\n', '') for line in open(file_path)]\n",
    "\n",
    "def transpose_input(input_matrix):\n",
    "    return [*zip(*input_matrix)]\n",
    "\n",
    "def get_gamma_rate(transpose_matrix):\n",
    "    return ''.join(['1' if (column.count('1') > int(len(column)/2)) else '0' for column in transpose_matrix])\n",
    "\n",
    "def execute_gamma_rate(path):\n",
    "    input_matrix = read_intput(path)\n",
    "    transpose_input_matrix = transpose_input(input_matrix)\n",
    "    return get_gamma_rate(transpose_input_matrix)\n",
    "\n",
    "def bin_to_decimal(binnary):\n",
    "    return int(binnary, 2)\n",
    "\n",
    "def invert_bin(binnary_str):\n",
    "    return ''.join([ '0' if int(char) else '1' for char in binnary_str])\n",
    "\n",
    "bin_gamma_str = execute_gamma_rate('./inputs/03/input')\n",
    "bin_epsilon_answer = invert_bin(bin_gamma_str)\n",
    "\n",
    "decimal_gamma = bin_to_decimal(bin_gamma_str)\n",
    "decimal_epsilon = bin_to_decimal(bin_epsilon_answer)\n",
    "\n",
    "print('Decimal Gamma: ', decimal_gamma)\n",
    "print('Decimal Epsilon: ', decimal_epsilon)\n",
    "print('Resposta: ', decimal_gamma * decimal_epsilon)"
   ]
  },
  {
   "cell_type": "code",
   "execution_count": 6,
   "metadata": {},
   "outputs": [],
   "source": [
    "# Part 2\n",
    "def read_input(file_path):\n",
    "    return [line.replace('\\n', '') for line in open(file_path)]\n",
    "\n",
    "def transpose_input(input_matrix):\n",
    "    return [*zip(*input_matrix)]\n",
    "\n",
    "def find_oxigen_ratting(possible_inputs, pos):\n",
    "    transposed_input = transpose_input(possible_inputs)\n",
    "    column = transposed_input[pos]\n",
    "    most_common_bit = '1' if (column.count('1') >= column.count('0')) else '0'\n",
    "    filtered_possible_inputs = list(filter(lambda a: a[pos] == most_common_bit, possible_inputs))\n",
    "    if (len(filtered_possible_inputs) == 1):\n",
    "        return filtered_possible_inputs[0]\n",
    "\n",
    "    return find_oxigen_ratting(filtered_possible_inputs, pos + 1)\n",
    "\n",
    "def find_scrubber_rating(possible_inputs, pos):\n",
    "    transposed_input = transpose_input(possible_inputs)\n",
    "    column = transposed_input[pos]\n",
    "    most_common_bit = '0' if (column.count('1') >= column.count('0')) else '1'\n",
    "    filtered_possible_inputs = list(filter(lambda a: a[pos] == most_common_bit, possible_inputs))\n",
    "    if (len(filtered_possible_inputs) == 1):\n",
    "        return filtered_possible_inputs[0]\n",
    "\n",
    "    return find_scrubber_rating(filtered_possible_inputs, pos + 1)"
   ]
  },
  {
   "cell_type": "code",
   "execution_count": 7,
   "metadata": {},
   "outputs": [
    {
     "name": "stdout",
     "output_type": "stream",
     "text": [
      "Oxigen Ratting bin 100010111011\n",
      "Scrubber Rating bin 000111000011\n",
      "Oxigen Ratting 2235\n",
      "Scrubber Rating 451\n",
      "Resposta:  1007985\n"
     ]
    }
   ],
   "source": [
    "input_bit = read_input('./inputs/03/input')\n",
    "\n",
    "oxigen_ratting_bin = find_oxigen_ratting(input_bit, 0)\n",
    "scrubber_rating_bin = find_scrubber_rating(input_bit, 0)\n",
    "\n",
    "print('Oxigen Ratting bin', oxigen_ratting_bin)\n",
    "print('Scrubber Rating bin', scrubber_rating_bin)\n",
    "\n",
    "decimal_oxigen_ratting = bin_to_decimal(oxigen_ratting_bin)\n",
    "decimal_scrubber_rating = bin_to_decimal(scrubber_rating_bin)\n",
    "\n",
    "print('Oxigen Ratting', decimal_oxigen_ratting)\n",
    "print('Scrubber Rating', decimal_scrubber_rating)\n",
    "print('Resposta: ', decimal_oxigen_ratting * decimal_scrubber_rating)\n"
   ]
  },
  {
   "cell_type": "markdown",
   "metadata": {},
   "source": [
    "# Dia 4"
   ]
  },
  {
   "cell_type": "code",
   "execution_count": 241,
   "metadata": {},
   "outputs": [],
   "source": [
    "class Bingo:\n",
    "    # Part 1\n",
    "    def read_table_input(self):\n",
    "        return [line.replace('\\n', '').split(',') for idx, line in enumerate(open(self.file_path)) if not idx][0]\n",
    "        \n",
    "    def read_boards(self):\n",
    "        boards = []\n",
    "        board = []\n",
    "        for line in open(self.file_path):\n",
    "            if len(line) == 1:\n",
    "                boards.append(board)\n",
    "                board = []\n",
    "\n",
    "            if len(line) == 15:\n",
    "                board.append(list(filter(lambda a: len(a) > 0, line.replace('\\n', '').split(' '))))\n",
    "\n",
    "        return boards[1:]\n",
    "    \n",
    "    def is_any_row_complete(self, board, inputs):\n",
    "        return any([set(line).issubset(inputs) for line in board])\n",
    "        \n",
    "    def is_any_col_complete(self, board, inputs):\n",
    "        transpose_board = [*zip(*board)]\n",
    "        return any([set(line).issubset(inputs) for line in transpose_board])\n",
    "    \n",
    "    def find_bingo_number(self, inputs):\n",
    "        complete_boards = [(idx, inputs) for idx, board in enumerate(self.boards) if self.is_any_col_complete(board, self.table_input[0:inputs]) or self.is_any_col_complete(board, self.table_input[0:inputs])]\n",
    "        if (len(complete_boards)):\n",
    "            (board_idx, input_index) = complete_boards[0]\n",
    "            self.winner_board = self.boards[board_idx]\n",
    "            self.winner_number_list = self.table_input[0: input_index]\n",
    "            return complete_boards[0]\n",
    "        \n",
    "        return self.find_bingo_number(inputs + 1)\n",
    "    \n",
    "    def get_unmarked_numbers_sum(self):\n",
    "        flatten_board = reduce(lambda c,v:  [*c, *v], self.winner_board, [])\n",
    "        unmarked_numbers = set(flatten_board) - set(self.winner_number_list)\n",
    "        self.unmarked_numbers_sum = reduce(lambda c,v: c + int(v), unmarked_numbers, 0)\n",
    "        return self.unmarked_numbers_sum\n",
    "    \n",
    "    def get_part1_response(self):\n",
    "        self.find_bingo_number(0)\n",
    "        self.get_unmarked_numbers_sum()\n",
    "        print(\"Resposta part 1 é: \", self.unmarked_numbers_sum * int(self.winner_number_list[-1]))\n",
    "        \n",
    "    # Part 2\n",
    "    def get_part2_response(self, inputs, boards):\n",
    "        complete_boards = [idx for idx, board in enumerate(boards) if self.is_any_col_complete(board, self.table_input[0:inputs]) or self.is_any_col_complete(board, self.table_input[0:inputs])]\n",
    "        if (len(complete_boards) and len(boards) == 1):\n",
    "            flatten_board = reduce(lambda c,v:  [*c, *v], boards[0], [])\n",
    "            unmarked_numbers = set(flatten_board) - set(self.table_input[0:inputs])\n",
    "            self.last_board_unmarked_numbers_sum = reduce(lambda c,v: c + int(v), unmarked_numbers, 0)\n",
    "            print(\"Resposta part 2 é: \", self.last_board_unmarked_numbers_sum * int(self.table_input[inputs - 1]))\n",
    "            return\n",
    "        \n",
    "        if (len(complete_boards)):\n",
    "            not_won_boards = [board for idx, board in enumerate(boards) if idx not in complete_boards]\n",
    "            \n",
    "            return self.get_part2_response(inputs + 1, not_won_boards)\n",
    "        \n",
    "        return self.get_part2_response(inputs + 1, boards)\n",
    "        \n",
    "    \n",
    "    def __init__(self, file_path):\n",
    "        self.file_path = file_path\n",
    "        self.table_input = self.read_table_input()\n",
    "        self.boards = self.read_boards()"
   ]
  },
  {
   "cell_type": "code",
   "execution_count": 242,
   "metadata": {},
   "outputs": [
    {
     "name": "stdout",
     "output_type": "stream",
     "text": [
      "Resposta part 1 é:  38913\n",
      "Resposta part 2 é:  16836\n"
     ]
    }
   ],
   "source": [
    "bingo = Bingo('./inputs/04/input')\n",
    "bingo.get_part1_response()\n",
    "bingo.get_part2_response(0, bingo.boards)"
   ]
  },
  {
   "cell_type": "markdown",
   "metadata": {},
   "source": [
    "# Dia 5"
   ]
  },
  {
   "cell_type": "code",
   "execution_count": 249,
   "metadata": {},
   "outputs": [],
   "source": [
    "from functools import reduce\n",
    "\n",
    "# Part1\n",
    "class Lines:\n",
    "    def __init__(self, file_path, max_x, max_y):\n",
    "        self.file_path = file_path\n",
    "        self.max_x = max_x\n",
    "        self.max_y = max_y\n",
    "        self.line_points = self.read_line_input(file_path)\n",
    "        self.line_map = self.build_line_map(max_x, max_y)\n",
    "        \n",
    "    def process_line(self, line):\n",
    "        [x1, y1, x2, y2] = line.replace(' -> ', ',').replace('\\n', '').split(',')\n",
    "        return dict(x1=x1, y1=y1, x2=x2, y2=y2)\n",
    "\n",
    "    def read_line_input(self, line_path):\n",
    "        return [process_line(line) for line in open(line_path)]\n",
    "\n",
    "    def get_highest_coords(input_line_list):\n",
    "        max_y1 = max([int(coords['y1']) for coords in input_line_list])\n",
    "        max_x1 = max([int(coords['x1']) for coords in input_line_list])\n",
    "        max_y2 = max([int(coords['y2']) for coords in input_line_list])\n",
    "        max_x2 = max([int(coords['x2']) for coords in input_line_list])\n",
    "        return (max_y1, max_x1, max_y2, max_x2) \n",
    "\n",
    "    def build_line_map(self, max_x, max_y):\n",
    "        return [[0 for y in range(max_y)] for x in range(max_x)]\n",
    "\n",
    "    def is_horizontal_or_vertical(self, line):\n",
    "        x1, y1, x2, y2 = line.values()\n",
    "        return x1 == x2 or y1 == y2\n",
    "    \n",
    "    def special_in_range(self, a,b):\n",
    "        if (a > b):\n",
    "            return [a - i for i in range(a - b + 1)]\n",
    "\n",
    "        return [a + i for i in range(b - a + 1)]\n",
    "\n",
    "    def get_line_points_coords(self, line):\n",
    "        [x1, y1, x2, y2] = map(lambda v: int(v), list(line.values()))\n",
    "        if (x1 == x2):\n",
    "            return [(x1, y) for y in range(min(y1, y2), max(y1, y2) + 1)]\n",
    "\n",
    "        if (y1 == y2):\n",
    "            return [(x, y1) for x in range(min(x1, x2), max(x1, x2) + 1)]\n",
    "\n",
    "        return [(x,y) for x, y in zip(self.special_in_range(x1,x2), self.special_in_range(y1, y2))]\n",
    "        \n",
    "    def annotate_in_line_map(self, points):\n",
    "        for point in points:\n",
    "            (x, y) = point\n",
    "            self.line_map[y][x] += 1\n",
    "\n",
    "    def poulate_line_h_v_map(self):\n",
    "        [self.annotate_in_line_map(self.get_line_points_coords(line)) for line in self.line_points if is_horizontal_or_vertical(line)]\n",
    "    \n",
    "    def poulate_line_h_v_d_map(self):\n",
    "        [self.annotate_in_line_map(self.get_line_points_coords(line)) for line in self.line_points]\n",
    "        \n",
    "    def count_interception(self):\n",
    "        return reduce(lambda c,v: c + sum([1 for p in v if p > 1]), self.line_map, 0)\n",
    "    "
   ]
  },
  {
   "cell_type": "code",
   "execution_count": 250,
   "metadata": {},
   "outputs": [
    {
     "name": "stdout",
     "output_type": "stream",
     "text": [
      "Resposta parte 2 é:  4728\n"
     ]
    }
   ],
   "source": [
    "line_mapper_1 = Lines('./inputs/05/input', 1000, 1000)\n",
    "line_mapper_1.poulate_line_h_v_map()\n",
    "print(\"Resposta parte 2 é: \", line_mapper_1.count_interception())"
   ]
  },
  {
   "cell_type": "code",
   "execution_count": 251,
   "metadata": {},
   "outputs": [
    {
     "name": "stdout",
     "output_type": "stream",
     "text": [
      "Resposta parte 2 é:  17717\n"
     ]
    }
   ],
   "source": [
    "line_mapper_2 = Lines('./inputs/05/input', 1000, 1000)\n",
    "line_mapper_2.poulate_line_h_v_d_map()\n",
    "print(\"Resposta parte 2 é: \", line_mapper_2.count_interception())"
   ]
  },
  {
   "cell_type": "markdown",
   "metadata": {},
   "source": [
    "# Dia 6"
   ]
  },
  {
   "cell_type": "code",
   "execution_count": 3,
   "metadata": {},
   "outputs": [],
   "source": [
    "#Part 1\n",
    "def read_input_fishs(input_path):\n",
    "    return [line.replace('\\n', '').split(',') for line in open(input_path)][0]\n",
    "\n",
    "initial_state = read_input_fishs('./inputs/06/example')\n",
    "\n",
    "def step_day_rep(state, actual_day, final_day):\n",
    "    if (actual_day > final_day):\n",
    "        return state\n",
    "    shall_born = [8 for fish in state if not int(fish)]\n",
    "    new_state = [6 if int(fish) == 0 else int(fish) - 1 for fish in state]\n",
    "    return step_day_rep(new_state + shall_born, actual_day + 1, final_day)"
   ]
  },
  {
   "cell_type": "code",
   "execution_count": 5,
   "metadata": {},
   "outputs": [
    {
     "name": "stdout",
     "output_type": "stream",
     "text": [
      "Resposta parte 2 é : 1710623015163\n"
     ]
    }
   ],
   "source": [
    "#Part 2\n",
    "initial_state = read_input_fishs('./inputs/06/input')\n",
    "new_fish_list = [int(fish) for fish in initial_state]\n",
    "fish_count_list = [new_fish_list.count(i) for i in range(9)]\n",
    "    \n",
    "def setp_by_life_fish(fish_count_list, actual_day, final_day):\n",
    "    if (actual_day == final_day):\n",
    "        return sum(fish_count_list)\n",
    "    \n",
    "    updated_fish_count_list = fish_count_list[1:] + fish_count_list[:1]\n",
    "    updated_fish_count_list[6] = updated_fish_count_list[6] + updated_fish_count_list[-1]\n",
    "    return setp_by_life_fish(updated_fish_count_list, actual_day+1, final_day)\n",
    "    \n",
    "print('Resposta parte 2 é :', setp_by_life_fish(fish_count_list, 0, 256))"
   ]
  },
  {
   "cell_type": "markdown",
   "metadata": {},
   "source": [
    "# Dia 7"
   ]
  },
  {
   "cell_type": "code",
   "execution_count": 6,
   "metadata": {},
   "outputs": [
    {
     "data": {
      "text/plain": [
       "(16, 14, 7, 4, 2, 2, 2, 1, 1, 0)"
      ]
     },
     "execution_count": 6,
     "metadata": {},
     "output_type": "execute_result"
    }
   ],
   "source": [
    "16,14,7,4,2,2,2,1,1,0"
   ]
  }
 ],
 "metadata": {
  "kernelspec": {
   "display_name": ".venv",
   "language": "python",
   "name": ".venv"
  },
  "language_info": {
   "codemirror_mode": {
    "name": "ipython",
    "version": 3
   },
   "file_extension": ".py",
   "mimetype": "text/x-python",
   "name": "python",
   "nbconvert_exporter": "python",
   "pygments_lexer": "ipython3",
   "version": "3.8.5"
  }
 },
 "nbformat": 4,
 "nbformat_minor": 4
}
